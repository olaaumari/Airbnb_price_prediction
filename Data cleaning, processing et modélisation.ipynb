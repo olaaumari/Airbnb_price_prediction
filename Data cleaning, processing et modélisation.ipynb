{
 "cells": [
  {
   "cell_type": "markdown",
   "id": "29f33d91",
   "metadata": {},
   "source": [
    "## Data cleaning, processing et modélisation"
   ]
  },
  {
   "cell_type": "code",
   "execution_count": 87,
   "id": "321e4f8f",
   "metadata": {},
   "outputs": [],
   "source": [
    "import pandas as pd \n",
    "import numpy as np \n",
    "import matplotlib.pyplot as plt \n",
    "import seaborn as sns \n",
    "\n",
    "from sklearn import linear_model, preprocessing, feature_selection\n",
    "from sklearn.model_selection import train_test_split, GridSearchCV, RandomizedSearchCV\n",
    "from sklearn.ensemble import RandomForestRegressor, RandomForestClassifier\n",
    "\n",
    "from sklearn.feature_selection import SelectKBest, chi2\n",
    "\n",
    "from sklearn.metrics import mean_squared_error, r2_score, f1_score, median_absolute_error"
   ]
  },
  {
   "cell_type": "code",
   "execution_count": 88,
   "id": "4dfdc5d0",
   "metadata": {},
   "outputs": [],
   "source": [
    "df = pd.read_csv('Scraping_airbnb2.csv',sep='\\t')"
   ]
  },
  {
   "cell_type": "code",
   "execution_count": 89,
   "id": "6f1dae8b",
   "metadata": {},
   "outputs": [
    {
     "data": {
      "text/plain": [
       "Index(['Unnamed: 0', 'title', 'price', 'superhost', 'statut', 'grade',\n",
       "       'nb_comment', 'voyageurs', 'nb_chambres', 'nb_lits', 'nb_sdb', 'city',\n",
       "       'Cuisine', 'Télévision', 'Sèche-cheveux', 'Chauffage', 'Lave-vaisselle',\n",
       "       'Eau chaude', 'Draps', 'Wifi', 'Climatisation',\n",
       "       'Caméras de surveillance extérieure et/ou dans les espaces communs',\n",
       "       'Entrée privée', 'Jacuzzi', 'Barbecue', 'Équipements de base',\n",
       "       'Cintres', 'Lave-linge', 'Détecteur de fumée', 'Four à micro-ondes',\n",
       "       'Réfrigérateur', 'Cuisinière', 'Cafetière', 'Shampooing',\n",
       "       'Détecteur de monoxyde de carbone', 'Séjours longue durée autorisés',\n",
       "       'Baignoire', 'Fer à repasser', 'TV avec abonnement standard au câble',\n",
       "       'Lit pour bébé', 'Lit parapluie', 'Accès plage ou bord de mer',\n",
       "       'Ascenseur', 'Stationnement payant à l'extérieur de la propriété',\n",
       "       'Arrivée autonome', 'Logement de plain-pied',\n",
       "       'Vue panoramique sur la ville', 'Vue sur la piscine', 'Vue sur la baie',\n",
       "       'Vue sur le jardin', 'Vue sur la plage', 'Vue sur le parc',\n",
       "       'Vue sur le port', 'Vue sur la mer', 'Vue sur la montagne',\n",
       "       'Savon pour le corps', 'Oreillers et couvertures supplémentaires',\n",
       "       'Connexion Ethernet', 'Extincteur', 'Congélateur', 'Four',\n",
       "       'Coffre-fort', 'Ustensiles de barbecue', 'Patio ou balcon : privé(e)',\n",
       "       'Jardin privé(e), Clôture intégrale', 'Parking gratuit', 'Piscine',\n",
       "       'Salle de sport', 'Animaux acceptés', 'Dépôt de bagages autorisé',\n",
       "       'Clés remises par l'hôte', 'Équipements de cuisine de base'],\n",
       "      dtype='object')"
      ]
     },
     "execution_count": 89,
     "metadata": {},
     "output_type": "execute_result"
    }
   ],
   "source": [
    "df.columns"
   ]
  },
  {
   "cell_type": "markdown",
   "id": "d34d3a6b",
   "metadata": {},
   "source": [
    "<br />\n",
    "<br />\n",
    "Dans notre base de données, les valeurs manquantes sont probablement dues à un problème de connexion lors du scraping. <br /> \n",
    "La valeur \"NC\" signifie que l'information recherchée n'apparaissait pas sur la page de l'annonce lors du scraping.\n",
    "<br />\n",
    "Par exemple, si le propriétaire n'est pas \"Superhôte\", le driver inscrit \"NC\" dans la colonne correspondante. <br />\n",
    "Pour les équipements, si le bien ne possède pas d'entrée privée, c'est indiqué par un \"NC\".\n",
    "<br />"
   ]
  },
  {
   "cell_type": "markdown",
   "id": "55cee3d5",
   "metadata": {},
   "source": [
    "## Exploration des données"
   ]
  },
  {
   "cell_type": "markdown",
   "id": "cc302afa",
   "metadata": {},
   "source": [
    "<br />\n",
    "Le dataframe df est composé de 4290 lignes et 73 colonnes. "
   ]
  },
  {
   "cell_type": "code",
   "execution_count": 90,
   "id": "92b3895f",
   "metadata": {},
   "outputs": [
    {
     "data": {
      "text/plain": [
       "(4290, 72)"
      ]
     },
     "execution_count": 90,
     "metadata": {},
     "output_type": "execute_result"
    }
   ],
   "source": [
    "df.shape"
   ]
  },
  {
   "cell_type": "code",
   "execution_count": 91,
   "id": "e7d52139",
   "metadata": {},
   "outputs": [
    {
     "data": {
      "text/plain": [
       "Index(['Unnamed: 0', 'title', 'price', 'superhost', 'statut', 'grade',\n",
       "       'nb_comment', 'voyageurs', 'nb_chambres', 'nb_lits', 'nb_sdb', 'city',\n",
       "       'Cuisine', 'Télévision', 'Sèche-cheveux', 'Chauffage', 'Lave-vaisselle',\n",
       "       'Eau chaude', 'Draps', 'Wifi', 'Climatisation',\n",
       "       'Caméras de surveillance extérieure et/ou dans les espaces communs',\n",
       "       'Entrée privée', 'Jacuzzi', 'Barbecue', 'Équipements de base',\n",
       "       'Cintres', 'Lave-linge', 'Détecteur de fumée', 'Four à micro-ondes',\n",
       "       'Réfrigérateur', 'Cuisinière', 'Cafetière', 'Shampooing',\n",
       "       'Détecteur de monoxyde de carbone', 'Séjours longue durée autorisés',\n",
       "       'Baignoire', 'Fer à repasser', 'TV avec abonnement standard au câble',\n",
       "       'Lit pour bébé', 'Lit parapluie', 'Accès plage ou bord de mer',\n",
       "       'Ascenseur', 'Stationnement payant à l'extérieur de la propriété',\n",
       "       'Arrivée autonome', 'Logement de plain-pied',\n",
       "       'Vue panoramique sur la ville', 'Vue sur la piscine', 'Vue sur la baie',\n",
       "       'Vue sur le jardin', 'Vue sur la plage', 'Vue sur le parc',\n",
       "       'Vue sur le port', 'Vue sur la mer', 'Vue sur la montagne',\n",
       "       'Savon pour le corps', 'Oreillers et couvertures supplémentaires',\n",
       "       'Connexion Ethernet', 'Extincteur', 'Congélateur', 'Four',\n",
       "       'Coffre-fort', 'Ustensiles de barbecue', 'Patio ou balcon : privé(e)',\n",
       "       'Jardin privé(e), Clôture intégrale', 'Parking gratuit', 'Piscine',\n",
       "       'Salle de sport', 'Animaux acceptés', 'Dépôt de bagages autorisé',\n",
       "       'Clés remises par l'hôte', 'Équipements de cuisine de base'],\n",
       "      dtype='object')"
      ]
     },
     "execution_count": 91,
     "metadata": {},
     "output_type": "execute_result"
    }
   ],
   "source": [
    "df.columns"
   ]
  },
  {
   "cell_type": "markdown",
   "id": "9940569a",
   "metadata": {},
   "source": [
    "\n",
    "<br />\n",
    "On supprime la colonne Unnamed: 0 puisqu'elle ne sert à rien. \n",
    "<br />"
   ]
  },
  {
   "cell_type": "code",
   "execution_count": 92,
   "id": "c4fae54a",
   "metadata": {},
   "outputs": [],
   "source": [
    "df.drop(['Unnamed: 0'],axis=1,inplace=True)"
   ]
  },
  {
   "cell_type": "markdown",
   "id": "72bed6fd",
   "metadata": {},
   "source": [
    "<br />\n",
    "<br />\n",
    "On crée une fonction capable de nous donner le nombre de modalités, le taux et le nombre de NC ainsi que le taux et le nombre de valeurs manquantes par colonne. \n",
    "<br />"
   ]
  },
  {
   "cell_type": "code",
   "execution_count": 93,
   "id": "a633dbe3",
   "metadata": {},
   "outputs": [],
   "source": [
    "def info(df):\n",
    "    for col in df.columns :\n",
    "        rate = (df[col]=='NC').sum()/df.shape[0]\n",
    "        nc = (df[col]=='NC').sum()\n",
    "        na = (df[col].isna()).sum()\n",
    "        rate_na = (df[col].isna()).sum()/df.shape[0]\n",
    "        if df[col].nunique() <2 :\n",
    "            print('\\033[1;31m' + f\"{col} - {df[col].nunique()} modalités - {round(rate,3)} % de NC ({nc}) - {round(rate_na,3)} % de NaN ({na}).\"+'\\033[0m')\n",
    "        elif rate > 0 :\n",
    "            print('\\033[1;34m' + f\"{col} - {df[col].nunique()} modalités - {round(rate,3)} % de NC ({nc}) - {round(rate_na,3)} % de NaN ({na}).\"+'\\033[0m')\n",
    "        else :\n",
    "            print(f\"{col} - {df[col].nunique()} modalités - {round(rate,3)} % de NC  ({nc}) - {round(rate_na,3)} % de NaN ({na}).\")\n",
    "        "
   ]
  },
  {
   "cell_type": "code",
   "execution_count": 94,
   "id": "cd5b9ace",
   "metadata": {},
   "outputs": [
    {
     "name": "stdout",
     "output_type": "stream",
     "text": [
      "title - 3300 modalités - 0.0 % de NC  (0) - 0.0 % de NaN (0).\n",
      "price - 687 modalités - 0.0 % de NC  (0) - 0.001 % de NaN (5).\n",
      "\u001b[1;34msuperhost - 2 modalités - 0.804 % de NC (3451) - 0.0 % de NaN (0).\u001b[0m\n",
      "statut - 2 modalités - 0.0 % de NC  (0) - 0.079 % de NaN (337).\n",
      "grade - 102 modalités - 0.0 % de NC  (0) - 0.311 % de NaN (1336).\n",
      "nb_comment - 205 modalités - 0.0 % de NC  (0) - 0.186 % de NaN (798).\n",
      "voyageurs - 16 modalités - 0.0 % de NC  (0) - 0.0 % de NaN (0).\n",
      "nb_chambres - 14 modalités - 0.0 % de NC  (0) - 0.0 % de NaN (0).\n",
      "\u001b[1;34mnb_lits - 24 modalités - 0.007 % de NC (30) - 0.0 % de NaN (0).\u001b[0m\n",
      "nb_sdb - 14 modalités - 0.0 % de NC  (0) - 0.0 % de NaN (0).\n",
      "city - 37 modalités - 0.0 % de NC  (0) - 0.0 % de NaN (0).\n",
      "\u001b[1;34mCuisine - 2 modalités - 0.021 % de NC (92) - 0.0 % de NaN (0).\u001b[0m\n",
      "\u001b[1;34mTélévision - 2 modalités - 0.406 % de NC (1742) - 0.0 % de NaN (0).\u001b[0m\n",
      "\u001b[1;34mSèche-cheveux - 2 modalités - 0.162 % de NC (696) - 0.0 % de NaN (0).\u001b[0m\n",
      "\u001b[1;34mChauffage - 2 modalités - 0.245 % de NC (1049) - 0.0 % de NaN (0).\u001b[0m\n",
      "\u001b[1;34mLave-vaisselle - 2 modalités - 0.43 % de NC (1845) - 0.0 % de NaN (0).\u001b[0m\n",
      "\u001b[1;34mEau chaude - 2 modalités - 0.232 % de NC (997) - 0.0 % de NaN (0).\u001b[0m\n",
      "\u001b[1;34mDraps - 2 modalités - 0.313 % de NC (1341) - 0.0 % de NaN (0).\u001b[0m\n",
      "\u001b[1;34mWifi - 2 modalités - 0.083 % de NC (354) - 0.0 % de NaN (0).\u001b[0m\n",
      "\u001b[1;34mClimatisation - 2 modalités - 0.43 % de NC (1846) - 0.0 % de NaN (0).\u001b[0m\n",
      "\u001b[1;31mCaméras de surveillance extérieure et/ou dans les espaces communs - 1 modalités - 1.0 % de NC (4290) - 0.0 % de NaN (0).\u001b[0m\n",
      "\u001b[1;34mEntrée privée - 2 modalités - 0.659 % de NC (2826) - 0.0 % de NaN (0).\u001b[0m\n",
      "\u001b[1;34mJacuzzi - 2 modalités - 0.947 % de NC (4063) - 0.0 % de NaN (0).\u001b[0m\n",
      "\u001b[1;34mBarbecue - 2 modalités - 0.823 % de NC (3532) - 0.0 % de NaN (0).\u001b[0m\n",
      "\u001b[1;34mÉquipements de base - 2 modalités - 0.119 % de NC (510) - 0.0 % de NaN (0).\u001b[0m\n",
      "\u001b[1;34mCintres - 2 modalités - 0.163 % de NC (698) - 0.0 % de NaN (0).\u001b[0m\n",
      "\u001b[1;34mLave-linge - 2 modalités - 0.313 % de NC (1342) - 0.0 % de NaN (0).\u001b[0m\n",
      "\u001b[1;34mDétecteur de fumée - 2 modalités - 0.174 % de NC (748) - 0.0 % de NaN (0).\u001b[0m\n",
      "\u001b[1;34mFour à micro-ondes - 2 modalités - 0.286 % de NC (1229) - 0.0 % de NaN (0).\u001b[0m\n",
      "\u001b[1;34mRéfrigérateur - 2 modalités - 0.23 % de NC (986) - 0.0 % de NaN (0).\u001b[0m\n",
      "\u001b[1;34mCuisinière - 2 modalités - 0.557 % de NC (2388) - 0.0 % de NaN (0).\u001b[0m\n",
      "\u001b[1;34mCafetière - 2 modalités - 0.501 % de NC (2149) - 0.0 % de NaN (0).\u001b[0m\n",
      "\u001b[1;34mShampooing - 2 modalités - 0.474 % de NC (2033) - 0.0 % de NaN (0).\u001b[0m\n",
      "\u001b[1;34mDétecteur de monoxyde de carbone - 2 modalités - 0.72 % de NC (3089) - 0.0 % de NaN (0).\u001b[0m\n",
      "\u001b[1;34mSéjours longue durée autorisés - 2 modalités - 0.099 % de NC (426) - 0.0 % de NaN (0).\u001b[0m\n",
      "\u001b[1;34mBaignoire - 2 modalités - 0.743 % de NC (3188) - 0.0 % de NaN (0).\u001b[0m\n",
      "\u001b[1;34mFer à repasser - 2 modalités - 0.162 % de NC (694) - 0.0 % de NaN (0).\u001b[0m\n",
      "\u001b[1;34mTV avec abonnement standard au câble - 2 modalités - 0.807 % de NC (3461) - 0.0 % de NaN (0).\u001b[0m\n",
      "\u001b[1;34mLit pour bébé - 2 modalités - 0.79 % de NC (3389) - 0.0 % de NaN (0).\u001b[0m\n",
      "\u001b[1;34mLit parapluie - 2 modalités - 0.779 % de NC (3342) - 0.0 % de NaN (0).\u001b[0m\n",
      "\u001b[1;34mAccès plage ou bord de mer - 2 modalités - 0.864 % de NC (3705) - 0.0 % de NaN (0).\u001b[0m\n",
      "\u001b[1;34mAscenseur - 2 modalités - 0.607 % de NC (2606) - 0.0 % de NaN (0).\u001b[0m\n",
      "\u001b[1;34mStationnement payant à l'extérieur de la propriété - 2 modalités - 0.847 % de NC (3633) - 0.0 % de NaN (0).\u001b[0m\n",
      "\u001b[1;34mArrivée autonome - 2 modalités - 0.854 % de NC (3664) - 0.0 % de NaN (0).\u001b[0m\n",
      "\u001b[1;34mLogement de plain-pied - 2 modalités - 0.828 % de NC (3551) - 0.0 % de NaN (0).\u001b[0m\n",
      "\u001b[1;34mVue panoramique sur la ville - 2 modalités - 0.925 % de NC (3969) - 0.0 % de NaN (0).\u001b[0m\n",
      "\u001b[1;34mVue sur la piscine - 2 modalités - 0.954 % de NC (4092) - 0.0 % de NaN (0).\u001b[0m\n",
      "\u001b[1;34mVue sur la baie - 2 modalités - 0.929 % de NC (3987) - 0.0 % de NaN (0).\u001b[0m\n",
      "\u001b[1;34mVue sur le jardin - 2 modalités - 0.9 % de NC (3862) - 0.0 % de NaN (0).\u001b[0m\n",
      "\u001b[1;34mVue sur la plage - 2 modalités - 0.95 % de NC (4076) - 0.0 % de NaN (0).\u001b[0m\n",
      "\u001b[1;34mVue sur le parc - 2 modalités - 0.982 % de NC (4212) - 0.0 % de NaN (0).\u001b[0m\n",
      "\u001b[1;34mVue sur le port - 2 modalités - 0.983 % de NC (4217) - 0.0 % de NaN (0).\u001b[0m\n",
      "\u001b[1;34mVue sur la mer - 2 modalités - 0.898 % de NC (3853) - 0.0 % de NaN (0).\u001b[0m\n",
      "\u001b[1;34mVue sur la montagne - 2 modalités - 0.944 % de NC (4048) - 0.0 % de NaN (0).\u001b[0m\n",
      "\u001b[1;34mSavon pour le corps - 2 modalités - 0.805 % de NC (3452) - 0.0 % de NaN (0).\u001b[0m\n",
      "\u001b[1;34mOreillers et couvertures supplémentaires - 2 modalités - 0.64 % de NC (2744) - 0.0 % de NaN (0).\u001b[0m\n",
      "\u001b[1;34mConnexion Ethernet - 2 modalités - 0.848 % de NC (3636) - 0.0 % de NaN (0).\u001b[0m\n",
      "\u001b[1;34mExtincteur - 2 modalités - 0.821 % de NC (3522) - 0.0 % de NaN (0).\u001b[0m\n",
      "\u001b[1;34mCongélateur - 2 modalités - 0.66 % de NC (2832) - 0.0 % de NaN (0).\u001b[0m\n",
      "\u001b[1;34mFour - 2 modalités - 0.285 % de NC (1223) - 0.0 % de NaN (0).\u001b[0m\n",
      "\u001b[1;34mCoffre-fort - 2 modalités - 0.96 % de NC (4119) - 0.0 % de NaN (0).\u001b[0m\n",
      "\u001b[1;34mUstensiles de barbecue - 2 modalités - 0.899 % de NC (3858) - 0.0 % de NaN (0).\u001b[0m\n",
      "\u001b[1;34mPatio ou balcon : privé(e) - 2 modalités - 0.7 % de NC (3003) - 0.0 % de NaN (0).\u001b[0m\n",
      "\u001b[1;34mJardin privé(e), Clôture intégrale - 2 modalités - 0.907 % de NC (3891) - 0.0 % de NaN (0).\u001b[0m\n",
      "\u001b[1;31mParking gratuit - 1 modalités - 1.0 % de NC (4290) - 0.0 % de NaN (0).\u001b[0m\n",
      "\u001b[1;34mPiscine - 2 modalités - 0.906 % de NC (3885) - 0.0 % de NaN (0).\u001b[0m\n",
      "\u001b[1;34mSalle de sport - 2 modalités - 0.98 % de NC (4206) - 0.0 % de NaN (0).\u001b[0m\n",
      "\u001b[1;34mAnimaux acceptés - 2 modalités - 0.812 % de NC (3482) - 0.0 % de NaN (0).\u001b[0m\n",
      "\u001b[1;34mDépôt de bagages autorisé - 2 modalités - 0.783 % de NC (3358) - 0.0 % de NaN (0).\u001b[0m\n",
      "\u001b[1;34mClés remises par l'hôte - 2 modalités - 0.677 % de NC (2903) - 0.0 % de NaN (0).\u001b[0m\n",
      "\u001b[1;34mÉquipements de cuisine de base - 2 modalités - 0.201 % de NC (862) - 0.0 % de NaN (0).\u001b[0m\n"
     ]
    }
   ],
   "source": [
    "info(df)"
   ]
  },
  {
   "cell_type": "markdown",
   "id": "bdfccf2d",
   "metadata": {},
   "source": [
    "## Nettoyage des données"
   ]
  },
  {
   "cell_type": "markdown",
   "id": "60fc996d",
   "metadata": {},
   "source": [
    "<br />\n",
    "On supprime la colonne 'title' puisqu'elle ne nous apporte pas d'informations importantes. \n",
    "<br />\n",
    "On supprime les colonnes 'Parking gratuit' et 'Caméras de surveillance extérieure et/ou dans les espaces communs' parce qu'elles ne contiennent que des NC. Elles seront corrélées en cas de encoding. "
   ]
  },
  {
   "cell_type": "code",
   "execution_count": 96,
   "id": "ba63242b",
   "metadata": {},
   "outputs": [],
   "source": [
    "df.drop(['title','Parking gratuit','Caméras de surveillance extérieure et/ou dans les espaces communs'],axis=1,inplace=True)"
   ]
  },
  {
   "cell_type": "markdown",
   "id": "c48d4474",
   "metadata": {},
   "source": [
    "<br />\n",
    "<br />\n",
    "On vérifie l'existence de doublons parfaits. \n",
    "<br />"
   ]
  },
  {
   "cell_type": "code",
   "execution_count": 97,
   "id": "ba68b38c",
   "metadata": {},
   "outputs": [
    {
     "data": {
      "text/html": [
       "<div>\n",
       "<style scoped>\n",
       "    .dataframe tbody tr th:only-of-type {\n",
       "        vertical-align: middle;\n",
       "    }\n",
       "\n",
       "    .dataframe tbody tr th {\n",
       "        vertical-align: top;\n",
       "    }\n",
       "\n",
       "    .dataframe thead th {\n",
       "        text-align: right;\n",
       "    }\n",
       "</style>\n",
       "<table border=\"1\" class=\"dataframe\">\n",
       "  <thead>\n",
       "    <tr style=\"text-align: right;\">\n",
       "      <th></th>\n",
       "      <th>price</th>\n",
       "      <th>superhost</th>\n",
       "      <th>statut</th>\n",
       "      <th>grade</th>\n",
       "      <th>nb_comment</th>\n",
       "      <th>voyageurs</th>\n",
       "      <th>nb_chambres</th>\n",
       "      <th>nb_lits</th>\n",
       "      <th>nb_sdb</th>\n",
       "      <th>city</th>\n",
       "      <th>...</th>\n",
       "      <th>Coffre-fort</th>\n",
       "      <th>Ustensiles de barbecue</th>\n",
       "      <th>Patio ou balcon : privé(e)</th>\n",
       "      <th>Jardin privé(e), Clôture intégrale</th>\n",
       "      <th>Piscine</th>\n",
       "      <th>Salle de sport</th>\n",
       "      <th>Animaux acceptés</th>\n",
       "      <th>Dépôt de bagages autorisé</th>\n",
       "      <th>Clés remises par l'hôte</th>\n",
       "      <th>Équipements de cuisine de base</th>\n",
       "    </tr>\n",
       "  </thead>\n",
       "  <tbody>\n",
       "    <tr>\n",
       "      <th>957</th>\n",
       "      <td>800</td>\n",
       "      <td>NC</td>\n",
       "      <td>Professionnel</td>\n",
       "      <td>NaN</td>\n",
       "      <td>NaN</td>\n",
       "      <td>2.0</td>\n",
       "      <td>1</td>\n",
       "      <td>1.0</td>\n",
       "      <td>1</td>\n",
       "      <td>Nice</td>\n",
       "      <td>...</td>\n",
       "      <td>NC</td>\n",
       "      <td>NC</td>\n",
       "      <td>NC</td>\n",
       "      <td>NC</td>\n",
       "      <td>NC</td>\n",
       "      <td>NC</td>\n",
       "      <td>NC</td>\n",
       "      <td>NC</td>\n",
       "      <td>NC</td>\n",
       "      <td>NC</td>\n",
       "    </tr>\n",
       "    <tr>\n",
       "      <th>958</th>\n",
       "      <td>800</td>\n",
       "      <td>NC</td>\n",
       "      <td>Professionnel</td>\n",
       "      <td>NaN</td>\n",
       "      <td>NaN</td>\n",
       "      <td>2.0</td>\n",
       "      <td>1</td>\n",
       "      <td>1.0</td>\n",
       "      <td>1</td>\n",
       "      <td>Nice</td>\n",
       "      <td>...</td>\n",
       "      <td>NC</td>\n",
       "      <td>NC</td>\n",
       "      <td>NC</td>\n",
       "      <td>NC</td>\n",
       "      <td>NC</td>\n",
       "      <td>NC</td>\n",
       "      <td>NC</td>\n",
       "      <td>NC</td>\n",
       "      <td>NC</td>\n",
       "      <td>NC</td>\n",
       "    </tr>\n",
       "  </tbody>\n",
       "</table>\n",
       "<p>2 rows × 68 columns</p>\n",
       "</div>"
      ],
      "text/plain": [
       "    price superhost         statut grade nb_comment  voyageurs nb_chambres  \\\n",
       "957   800        NC  Professionnel   NaN        NaN        2.0           1   \n",
       "958   800        NC  Professionnel   NaN        NaN        2.0           1   \n",
       "\n",
       "    nb_lits  nb_sdb  city  ... Coffre-fort Ustensiles de barbecue  \\\n",
       "957     1.0       1  Nice  ...          NC                     NC   \n",
       "958     1.0       1  Nice  ...          NC                     NC   \n",
       "\n",
       "    Patio ou balcon : privé(e) Jardin privé(e), Clôture intégrale Piscine  \\\n",
       "957                         NC                                 NC      NC   \n",
       "958                         NC                                 NC      NC   \n",
       "\n",
       "    Salle de sport Animaux acceptés Dépôt de bagages autorisé  \\\n",
       "957             NC               NC                        NC   \n",
       "958             NC               NC                        NC   \n",
       "\n",
       "    Clés remises par l'hôte Équipements de cuisine de base  \n",
       "957                      NC                             NC  \n",
       "958                      NC                             NC  \n",
       "\n",
       "[2 rows x 68 columns]"
      ]
     },
     "execution_count": 97,
     "metadata": {},
     "output_type": "execute_result"
    }
   ],
   "source": [
    "df[df.duplicated(keep=False)]"
   ]
  },
  {
   "cell_type": "markdown",
   "id": "34a0283a",
   "metadata": {},
   "source": [
    "<br /> <br />\n",
    "On ne garde que la première ligne pour chaque doublons. \n",
    "<br />"
   ]
  },
  {
   "cell_type": "code",
   "execution_count": 98,
   "id": "6534043b",
   "metadata": {},
   "outputs": [],
   "source": [
    "df.drop_duplicates(keep='first',inplace=True)"
   ]
  },
  {
   "cell_type": "markdown",
   "id": "b1e0b99f",
   "metadata": {},
   "source": [
    "\n",
    "### Colonne price"
   ]
  },
  {
   "cell_type": "markdown",
   "id": "08614dbe",
   "metadata": {},
   "source": [
    "<br />\n",
    "On s'intéresse maintenant à la colonne qui contient les prix puisque c'est la variable que l'on cherche à estimer. \n",
    "<br /> <br />\n",
    "On trouve 5 lignes pour lesquelles cette variable est manquante. \n",
    "<br />"
   ]
  },
  {
   "cell_type": "code",
   "execution_count": 99,
   "id": "bf3bf7fa",
   "metadata": {},
   "outputs": [
    {
     "data": {
      "text/plain": [
       "5"
      ]
     },
     "execution_count": 99,
     "metadata": {},
     "output_type": "execute_result"
    }
   ],
   "source": [
    "df['price'].isna().sum()"
   ]
  },
  {
   "cell_type": "markdown",
   "id": "4f3c3e2f",
   "metadata": {},
   "source": [
    "<br />\n",
    "On supprime les lignes concernées et on réinitialise les index. \n",
    "<br />"
   ]
  },
  {
   "cell_type": "code",
   "execution_count": 100,
   "id": "e57658fb",
   "metadata": {},
   "outputs": [],
   "source": [
    "df.dropna(subset=['price'],inplace=True)"
   ]
  },
  {
   "cell_type": "code",
   "execution_count": 101,
   "id": "78e9dc48",
   "metadata": {},
   "outputs": [],
   "source": [
    "df.reset_index(drop=True,inplace=True)"
   ]
  },
  {
   "cell_type": "markdown",
   "id": "d005869b",
   "metadata": {},
   "source": [
    "<br />\n",
    "Grâce aux expressions régulières (regex), on enlève le symbole € dans la colonne des prix. Ensuite, on change le type de la colonne des prix : d'object à int32.\n",
    "<br />"
   ]
  },
  {
   "cell_type": "code",
   "execution_count": 102,
   "id": "5e59d00c",
   "metadata": {},
   "outputs": [
    {
     "name": "stderr",
     "output_type": "stream",
     "text": [
      "C:\\Users\\Oussama\\AppData\\Local\\Temp\\ipykernel_28816\\3721108555.py:1: FutureWarning: The default value of regex will change from True to False in a future version.\n",
      "  df['price'] = df['price'].str.replace(r'\\D', '').astype(int)\n"
     ]
    }
   ],
   "source": [
    "df['price'] = df['price'].str.replace(r'\\D', '').astype(int)"
   ]
  },
  {
   "cell_type": "code",
   "execution_count": 103,
   "id": "26ba8839",
   "metadata": {},
   "outputs": [],
   "source": [
    "df['price'] = pd.to_numeric(df['price'])"
   ]
  },
  {
   "cell_type": "markdown",
   "id": "c3d776de",
   "metadata": {},
   "source": [
    "\n",
    "<br />\n",
    "On vérifie que tout a bien fonctionné. \n",
    "<br />"
   ]
  },
  {
   "cell_type": "code",
   "execution_count": 105,
   "id": "9f9bd61c",
   "metadata": {},
   "outputs": [
    {
     "data": {
      "text/plain": [
       "array([   31,   141,    37,    36,    34,    41,    46,    42,    28,\n",
       "          32,    47,    40,    29,    35,    26,    39,    33,   126,\n",
       "          43,    30,    55,    38,    44,    50,   155,   290,   171,\n",
       "          71,    52,    59,    70,    99,    91,    77,    84,    85,\n",
       "          90,    94,    76,    80,    87,    79,   104,    83,    81,\n",
       "          82,    95,   101,    89,    86,   100,    88,    96,   112,\n",
       "          75,   103,    72,   116,   178,    98,   206,    92,   174,\n",
       "         153,   180,   128,   150,   186,   161,   147,   152,   151,\n",
       "         191,   146,   172,   149,   170,   162,   160,   176,   143,\n",
       "         134,   163,   159,   175,   166,   145,   173,   181,   142,\n",
       "         177,   190,   169,  1250,   139,   140,   154,   157,   184,\n",
       "         192,   156,   148,   132,   189,   220,   135,   115,   144,\n",
       "         179,   129,   200,   199,   209,   188,   212,    61,   185,\n",
       "          60,   222,   208,   198,   167,   226,   195,   164,   193,\n",
       "         315,   204,   113,   216,   187,   214,   130,   168,   215,\n",
       "         194,   228,   165,   230,   205,   183,   158,   304,   117,\n",
       "         300,   288,   330,   314,   345,   114,    57,   280,   390,\n",
       "          53,   278,   111,   346,   240,   270,   282,   310,   273,\n",
       "         334,   371,   325,   305,   293,   312,   286,   324,   281,\n",
       "         299,   342,   319,   320,   369,   338,   434,   333,   397,\n",
       "         295,   292,   329,   322,   374,   296,   316,   356,   285,\n",
       "         255,   298,   244,   238,   225,   243,   242,   279,   236,\n",
       "         259,   210,   207,   268,   250,   262,   253,   249,   266,\n",
       "         256,   245,    58,    65,   484,   219,   248,   260,   277,\n",
       "         247,   254,   229,   237,   239,   224,   271,   265,   231,\n",
       "          62,  1800,  1980,   800,  1550,   122,  1000,   127,    54,\n",
       "         777,    15,    45,   850,  2938,  1089,  1329,  1200,   993,\n",
       "         799,   891,   700,  2000,  2500,   900,  1025,  2588,  2250,\n",
       "        1300,    48,   350,  2898,    67,   124,   110,    18,   123,\n",
       "         550,   136,    66,    69,    78,    63,    73,    68,    64,\n",
       "         453,   471,   464,   420,   202,    25,   643,   459,   339,\n",
       "         450,   440,   131,   118,   125,   108,   120,   121,   109,\n",
       "         119,   105,   138,    74,   400,   133,    17,   715,    19,\n",
       "         424,   341,   426,   399,   513,   359,   360,    24,   829,\n",
       "         495,   585,   246,    23,    10,    27,    20,    14,    22,\n",
       "         416,    56,   196,   234,   313,   223,   218,   233,   213,\n",
       "         221,   137,   106,    93,   102,    97,   107,  1190,    51,\n",
       "          49,   620,   950,   227,   201,   217,   197,   274,   276,\n",
       "         326,   328,   294,   323,   261,   267,   284,   275,   343,\n",
       "         307,   367,   337,   354,   331,   309,   370,   308,   344,\n",
       "         317,   327,   289,   365,   352,   257,   384,   303,   321,\n",
       "         272,   335,   362,   269,   378,  1765,   235,   251,   302,\n",
       "         258,   232,   301,  1425,   986,   713,   836,  2190,  2460,\n",
       "        1012,  1656,  1777,  3400,   600,   480,   381,   435,   414,\n",
       "         380,   506,   430,   446,   533,   417,   386,   438,   433,\n",
       "         456,   552,   382,   428,   447,   383,   410,   357,   650,\n",
       "         653,   714,   504,   590,  1062,   748,   500,   593,   571,\n",
       "         684,   511,   633,   595,   559,   605,   632,   570,   676,\n",
       "         696,   490,   680,   598,   606,   665,   553,   561,   475,\n",
       "         297,   537,   510,   540,   760,   423,   730,   252,   630,\n",
       "         405,   377,   263,   358,   375,   364,   353,   332,   264,\n",
       "         283,   588,   815,   402,   903,   750,   990,   860,   899,\n",
       "         857,  1050,  1056,   885,  1710,   835,  1393,  1701,  1024,\n",
       "        1001,  1100,   855,  3000,  2875,   801,   992,   470,   436,\n",
       "         427,   443,   347,   509,   412,   340,   441,   349,   493,\n",
       "         808,   791,   520,  2490,   849,   817,   880,   492,   575,\n",
       "         576,   720,   977,   457,   686,   772,   781,   557,   826,\n",
       "         485,   690,   644,   539,   582,   613,   514,   683,   543,\n",
       "        1500,   580,   611,   560,   518,  2800,  1043,   549,   547,\n",
       "         526,   785,   802,   311,   944,  1150,  2565,   949,   811,\n",
       "        1369,  1775,   839,  1111,  2550,  1600,  1170,  1436,  1747,\n",
       "        1700,  2754,  1061,   780,  1285,  2600,   946,  4275,  1129,\n",
       "        1670,   672,  1595,  1323,  1900,  1473,   694,   529,   675,\n",
       "         546,   608,   747,   705,   776,   693,   786,   599,  1442,\n",
       "         764,   862,   688,   770,   914,   805,   597,   767,  1064,\n",
       "         621,   515,  3704,   749,   646,  1450,  1504,   614,   564,\n",
       "        8000,   645,   738,  1650,  5850,  1208,  2422,   890,   795,\n",
       "        1058,  1134,  2100,   766,  1080,  1070,  2999,  2601,   920,\n",
       "        1680,  1020,   498,   840,  1240,   765,   389,  1480,  1288,\n",
       "        2645,   528,  1875,   594,   706,  1785,   535,  2790,  4090,\n",
       "        4390,   388,  3681,   363,  1720,  1714,   792,   882,  3500,\n",
       "         740,   707,  2533,  4063,  1821,  1955,   610,  2118,  1750,\n",
       "        1929,  2576,  3575,  1516,  3300,  1375,  4293,  1004,  1430,\n",
       "         422,    16,  4285,  1060,  1803,  1035,  2340,  4000,  1401,\n",
       "        3570,  7000,  9037,  1215,   995,  3324,  1665,  1913,  1910,\n",
       "        4026, 15000,   532,  2274,  2200,  2071, 11161, 10170,  2786,\n",
       "        4094,  4048,  8572])"
      ]
     },
     "execution_count": 105,
     "metadata": {},
     "output_type": "execute_result"
    }
   ],
   "source": [
    "df['price'].unique()"
   ]
  },
  {
   "cell_type": "code",
   "execution_count": 106,
   "id": "af686edd",
   "metadata": {},
   "outputs": [
    {
     "name": "stdout",
     "output_type": "stream",
     "text": [
      "Nuage de points entre le prix et la variable 0        2.0\n",
      "1        4.0\n",
      "2        2.0\n",
      "3        2.0\n",
      "4        2.0\n",
      "        ... \n",
      "4279    16.0\n",
      "4280    16.0\n",
      "4281    16.0\n",
      "4282    16.0\n",
      "4283     6.0\n",
      "Name: voyageurs, Length: 4284, dtype: float64\n"
     ]
    },
    {
     "data": {
      "image/png": "[encoded data removed]",
      "text/plain": [
       "<Figure size 432x288 with 1 Axes>"
      ]
     },
     "metadata": {
      "needs_background": "light"
     },
     "output_type": "display_data"
    }
   ],
   "source": [
    "df['voyageurs'].astype(float)\n",
    "print(\"Nuage de points entre le prix et la variable\", df['voyageurs'])\n",
    "sns.regplot(x=df[\"price\"], y=df['voyageurs'])\n",
    "plt.show()"
   ]
  },
  {
   "cell_type": "markdown",
   "id": "4cc44cda",
   "metadata": {},
   "source": [
    "### Colonne superhost"
   ]
  },
  {
   "cell_type": "markdown",
   "id": "d9bc15b5",
   "metadata": {},
   "source": [
    "<br />\n",
    "Pour la colonne 'superhost', on sait qu'il n'y a pas de valeurs manquantes (cf. fonction info) donc on peut directement encoder. <br />"
   ]
  },
  {
   "cell_type": "code",
   "execution_count": 107,
   "id": "33191924",
   "metadata": {},
   "outputs": [
    {
     "data": {
      "text/plain": [
       "array(['NC', 'Superhôte'], dtype=object)"
      ]
     },
     "execution_count": 107,
     "metadata": {},
     "output_type": "execute_result"
    }
   ],
   "source": [
    "df['superhost'].unique()"
   ]
  },
  {
   "cell_type": "code",
   "execution_count": 108,
   "id": "0459ac78",
   "metadata": {},
   "outputs": [],
   "source": [
    "df['superhost'] = np.where(df['superhost']=='Superhôte',1,0)"
   ]
  },
  {
   "cell_type": "markdown",
   "id": "65d59722",
   "metadata": {},
   "source": [
    "<br />\n",
    "On vérifie que le code a bien fonctionné. \n",
    "<br />"
   ]
  },
  {
   "cell_type": "code",
   "execution_count": 109,
   "id": "e969cbc4",
   "metadata": {},
   "outputs": [
    {
     "data": {
      "text/plain": [
       "array([0, 1])"
      ]
     },
     "execution_count": 109,
     "metadata": {},
     "output_type": "execute_result"
    }
   ],
   "source": [
    "df['superhost'].unique()"
   ]
  },
  {
   "cell_type": "markdown",
   "id": "d017516b",
   "metadata": {},
   "source": [
    "### Colonne statut"
   ]
  },
  {
   "cell_type": "markdown",
   "id": "b5d42a68",
   "metadata": {},
   "source": [
    "Pour la colonne \"statut\", on sait aussi qu'il n'y a pas de valeurs manquantes donc on peut encoder.\n",
    "<br />\n",
    "Particulier = 0 <br />\n",
    "Professionnel = 1 \n",
    "<br />"
   ]
  },
  {
   "cell_type": "code",
   "execution_count": 110,
   "id": "ef232f6f",
   "metadata": {},
   "outputs": [
    {
     "data": {
      "text/plain": [
       "array(['Particulier', 'Professionnel', nan], dtype=object)"
      ]
     },
     "execution_count": 110,
     "metadata": {},
     "output_type": "execute_result"
    }
   ],
   "source": [
    "df['statut'].unique()"
   ]
  },
  {
   "cell_type": "code",
   "execution_count": 111,
   "id": "0d4f820b",
   "metadata": {},
   "outputs": [],
   "source": [
    "df['statut'] = np.where(df['statut']=='Particulier',0,1)"
   ]
  },
  {
   "cell_type": "code",
   "execution_count": 112,
   "id": "9841af58",
   "metadata": {},
   "outputs": [
    {
     "data": {
      "text/plain": [
       "array([0, 1])"
      ]
     },
     "execution_count": 112,
     "metadata": {},
     "output_type": "execute_result"
    }
   ],
   "source": [
    "df['statut'].unique()"
   ]
  },
  {
   "cell_type": "markdown",
   "id": "3724dc9c",
   "metadata": {},
   "source": [
    "### Colonne des commentaires"
   ]
  },
  {
   "cell_type": "markdown",
   "id": "2c5de439",
   "metadata": {},
   "source": [
    "\n",
    "\n",
    "Pour la colonne \"nb_comment\" on remplace les valeurs manquantes par 0 puisque ce sont des cas pour lesquels le driver n'a pas trouvé l'information. On a remarqué que les nouvelles annonces n'avaient aucun commentaire.\n",
    "<br />"
   ]
  },
  {
   "cell_type": "code",
   "execution_count": 113,
   "id": "d3684367",
   "metadata": {},
   "outputs": [],
   "source": [
    "df['nb_comment'] = np.where(df['nb_comment'].isna(),'0 commentaire',df['nb_comment'])"
   ]
  },
  {
   "cell_type": "markdown",
   "id": "ab5cde18",
   "metadata": {},
   "source": [
    "<br />\n",
    "On enlève le mot \"commentaires\" et on change le type de la colonne au format int. "
   ]
  },
  {
   "cell_type": "code",
   "execution_count": 114,
   "id": "d631a131",
   "metadata": {},
   "outputs": [
    {
     "name": "stderr",
     "output_type": "stream",
     "text": [
      "C:\\Users\\Oussama\\AppData\\Local\\Temp\\ipykernel_28816\\888080942.py:1: FutureWarning: The default value of regex will change from True to False in a future version.\n",
      "  df['nb_comment'] = df['nb_comment'].str.replace(r'\\D', '').astype(int)\n"
     ]
    }
   ],
   "source": [
    "df['nb_comment'] = df['nb_comment'].str.replace(r'\\D', '').astype(int)"
   ]
  },
  {
   "cell_type": "markdown",
   "id": "4eabf8cf",
   "metadata": {},
   "source": [
    "<br />\n",
    "On vérifie que le code a bien fonctionné."
   ]
  },
  {
   "cell_type": "code",
   "execution_count": 115,
   "id": "f6c56653",
   "metadata": {},
   "outputs": [
    {
     "data": {
      "text/plain": [
       "array([ 24,  43,  23,  52,  70,   8,  92,   5,  19,  14,  28,   6,   2,\n",
       "       241,  39, 121,   4, 153,  37, 157,  99,  59, 268,  35,  17,  90,\n",
       "        21,  12,   3,  86,  10,  15,  13,  78,  22,   7,  18,  16, 166,\n",
       "        51,   9,  44, 182,   1,  27,   0,  42,  40, 211, 130,  56, 251,\n",
       "        32, 101,  20,  47, 222,  65, 206,  87, 172, 164, 103,  55,  75,\n",
       "        41,  30,  76, 167, 185,  80, 150,  31,  11, 249, 138,  25,  74,\n",
       "        60, 152,  67,  26,  82, 116, 165, 148,  89,  85,  81, 234,  62,\n",
       "        96,  93,  29,  38, 134,  48, 104,  33, 137,  34,  53,  58, 216,\n",
       "        91,  64, 170,  69,  45,  61,  46, 111, 118, 161,  49, 139,  36,\n",
       "       136, 588,  95,  57,  50, 114,  88, 145,  68, 147, 126, 158,  71,\n",
       "        54, 232,  66, 252, 174, 256, 180, 160, 156,  63, 100, 123,  79,\n",
       "       231, 108, 110, 117, 151, 113, 129, 154, 105, 299, 181, 135,  77,\n",
       "       128, 115,  97, 109, 122, 285,  73, 315, 112, 242, 422, 403, 210,\n",
       "       120,  72, 106, 119, 132, 246, 282, 215, 173, 159, 176, 193, 196,\n",
       "       127, 426,  84, 163, 297, 201, 260, 230, 247,  83,  94, 313, 390,\n",
       "       237, 149, 125, 188, 107, 168, 102, 171, 191, 195, 155])"
      ]
     },
     "execution_count": 115,
     "metadata": {},
     "output_type": "execute_result"
    }
   ],
   "source": [
    "df['nb_comment'].unique()"
   ]
  },
  {
   "cell_type": "code",
   "execution_count": 116,
   "id": "9c0e6a7e",
   "metadata": {},
   "outputs": [
    {
     "name": "stdout",
     "output_type": "stream",
     "text": [
      "Nuage de points entre le prix et la variable 0       24\n",
      "1       43\n",
      "2       23\n",
      "3       52\n",
      "4       70\n",
      "        ..\n",
      "4279     0\n",
      "4280    14\n",
      "4281     0\n",
      "4282     1\n",
      "4283     3\n",
      "Name: nb_comment, Length: 4284, dtype: int32\n"
     ]
    },
    {
     "data": {
      "image/png": "[encoded data removed]",
      "text/plain": [
       "<Figure size 432x288 with 1 Axes>"
      ]
     },
     "metadata": {
      "needs_background": "light"
     },
     "output_type": "display_data"
    }
   ],
   "source": [
    "df['nb_comment'].astype(float)\n",
    "print(\"Nuage de points entre le prix et la variable\", df['nb_comment'])\n",
    "sns.regplot(x=df[\"price\"], y=df['nb_comment'])\n",
    "plt.show()"
   ]
  },
  {
   "cell_type": "markdown",
   "id": "88a17d2c",
   "metadata": {},
   "source": [
    "### Colonne des notes"
   ]
  },
  {
   "cell_type": "markdown",
   "id": "40a78825",
   "metadata": {},
   "source": [
    "<br />\n",
    "On commence par transformer les données en float. \n",
    "<br />"
   ]
  },
  {
   "cell_type": "code",
   "execution_count": 117,
   "id": "50180364",
   "metadata": {},
   "outputs": [
    {
     "data": {
      "text/plain": [
       "0       4.92\n",
       "1       4.95\n",
       "2       4.52\n",
       "3       4.58\n",
       "4       4.45\n",
       "        ... \n",
       "4279     NaN\n",
       "4280    4.86\n",
       "4281     NaN\n",
       "4282     NaN\n",
       "4283    5.00\n",
       "Name: grade, Length: 4284, dtype: float64"
      ]
     },
     "execution_count": 117,
     "metadata": {},
     "output_type": "execute_result"
    }
   ],
   "source": [
    "df['grade'] = df['grade'].str.strip()\n",
    "df[\"grade\"]=df[\"grade\"].str.replace(',','.')\n",
    "df['grade'].astype(float)"
   ]
  },
  {
   "cell_type": "markdown",
   "id": "1973c078",
   "metadata": {},
   "source": [
    "<br /> On remplace les valeurs manquantes par une valeur aberrante : 9 999.\n",
    "<br />\n",
    "On ne peut mettre une note valant 0 à des annonces qui n'en n'ont pas. Par ailleurs, si ces annonces n'ont pas de notes c'est parce qu'elles sont récentes : on crée alors une feature avec 0 pour une annonce récente (sans note) et 1 pour annonce avec note."
   ]
  },
  {
   "cell_type": "code",
   "execution_count": 118,
   "id": "104e4c21",
   "metadata": {},
   "outputs": [
    {
     "data": {
      "text/plain": [
       "array(['4.92', '4.95', '4.52', '4.58', '4.45', '4.75', '4.65', '3.8',\n",
       "       '4.74', '4.21', '4.93', '4.6', '4.33', nan, '4.85', '4.49', '4.89',\n",
       "       '4.62', '4.08', '4.23', '4.79', '4.47', '4.69', '4.8', '4.71',\n",
       "       '4.88', '4.57', '4.25', '5', '4.73', '4.77', '4.5', '4.29', '4.56',\n",
       "       '4.72', '4.41', '4.63', '4.17', '4.78', '4.91', '3', '4.94',\n",
       "       '4.81', '4.43', '4.87', '4.38', '4.9', '4.97', '4.44', '4.66',\n",
       "       '4.46', '4.86', '4.83', '4.4', '4.96', '4.54', '4.84', '4', '4.51',\n",
       "       '4.12', '4.68', '4.76', '4.61', '4.67', '4.48', '4.98', '4.82',\n",
       "       '4.42', '4.7', '3.75', '3.33', '4.3', '4.64', '4.34', '4.16',\n",
       "       '4.55', '4.24', '4.59', '4.37', '4.32', '3.76', '4.11', '3.5',\n",
       "       '4.39', '3.25', '4.99', '4.14', '4.53', '4.28', '4.2', '4.13',\n",
       "       '4.09', '4.19', '3.86', '4.31', '4.36', '4.27', '4.26', '3.67',\n",
       "       '4.35', '3.69', '3.64', '3.89'], dtype=object)"
      ]
     },
     "execution_count": 118,
     "metadata": {},
     "output_type": "execute_result"
    }
   ],
   "source": [
    "df['grade'].unique()"
   ]
  },
  {
   "cell_type": "code",
   "execution_count": 119,
   "id": "09fd4ada",
   "metadata": {},
   "outputs": [
    {
     "data": {
      "text/plain": [
       "1330"
      ]
     },
     "execution_count": 119,
     "metadata": {},
     "output_type": "execute_result"
    }
   ],
   "source": [
    "df['grade'].isna().sum()"
   ]
  },
  {
   "cell_type": "code",
   "execution_count": 120,
   "id": "70cfce00",
   "metadata": {},
   "outputs": [],
   "source": [
    "df.loc[:,'grade']=df['grade'].fillna(9999.0)"
   ]
  },
  {
   "cell_type": "code",
   "execution_count": 121,
   "id": "936488a4",
   "metadata": {},
   "outputs": [
    {
     "data": {
      "text/plain": [
       "0"
      ]
     },
     "execution_count": 121,
     "metadata": {},
     "output_type": "execute_result"
    }
   ],
   "source": [
    "df['grade'].isna().sum()"
   ]
  },
  {
   "cell_type": "markdown",
   "id": "6710f6d3",
   "metadata": {},
   "source": [
    "### Colonne du nombre de chambres"
   ]
  },
  {
   "cell_type": "code",
   "execution_count": 122,
   "id": "23b8d09b",
   "metadata": {},
   "outputs": [
    {
     "data": {
      "text/plain": [
       "array(['1', 'S', '2', '3', '4', '6', '8', '7', '5', '9', '10', '11', '12',\n",
       "       '15'], dtype=object)"
      ]
     },
     "execution_count": 122,
     "metadata": {},
     "output_type": "execute_result"
    }
   ],
   "source": [
    "df['nb_chambres'].unique()"
   ]
  },
  {
   "cell_type": "markdown",
   "id": "77cf03a9",
   "metadata": {},
   "source": [
    "Le 'S' signifie Studio est pose problème : on le remplace par 0 étant donné qu'il n'y a pas de chambre dans un studio. "
   ]
  },
  {
   "cell_type": "code",
   "execution_count": 123,
   "id": "328c9f57",
   "metadata": {},
   "outputs": [],
   "source": [
    "df['nb_chambres'] = np.where(df['nb_chambres']=='S',1,df['nb_chambres'])"
   ]
  },
  {
   "cell_type": "markdown",
   "id": "e155526e",
   "metadata": {},
   "source": [
    "### Colonne du nombre de salles de bain"
   ]
  },
  {
   "cell_type": "markdown",
   "id": "0c833ca2",
   "metadata": {},
   "source": [
    "Il n'y a aucune valeur manquante dans cette colonne (cf. fonction info) donc on n'a aucun traitement à appliquer. \n",
    "<br />"
   ]
  },
  {
   "cell_type": "markdown",
   "id": "450ca92d",
   "metadata": {},
   "source": [
    "### Colonne du nombre de lits"
   ]
  },
  {
   "cell_type": "markdown",
   "id": "f52bcefb",
   "metadata": {},
   "source": [
    "<br />\n",
    "    On doit supprimer les lignes contenant des NC puisqu'on ne sait vraiment pas combien de chambres il y a pour ces annonces. "
   ]
  },
  {
   "cell_type": "code",
   "execution_count": 124,
   "id": "b0f3b9e0",
   "metadata": {},
   "outputs": [],
   "source": [
    "df.drop(df[df['nb_lits']=='NC'].index,inplace=True)"
   ]
  },
  {
   "cell_type": "markdown",
   "id": "f7f9678e",
   "metadata": {},
   "source": [
    "### Colonnes des équipements"
   ]
  },
  {
   "cell_type": "markdown",
   "id": "6db6a0c5",
   "metadata": {},
   "source": [
    "<br />\n",
    "Grâce à la fonction info, on sait que les colonnes des équipements possèdent 2 modalités, à savoir : \"NC\" ou le nom de l'équipement. \n",
    "<br />\n",
    "On encode 0 pour \"NC\" et 1 quand il y a l'équipement."
   ]
  },
  {
   "cell_type": "code",
   "execution_count": 125,
   "id": "18c982a8",
   "metadata": {},
   "outputs": [],
   "source": [
    "def NC(x):\n",
    "    if x == 'NC':\n",
    "        return 0\n",
    "    elif x==x :\n",
    "        return 1\n",
    "    else : pass"
   ]
  },
  {
   "cell_type": "code",
   "execution_count": 126,
   "id": "c1999e2d",
   "metadata": {},
   "outputs": [
    {
     "data": {
      "text/plain": [
       "(4254, 68)"
      ]
     },
     "execution_count": 126,
     "metadata": {},
     "output_type": "execute_result"
    }
   ],
   "source": [
    "df.shape"
   ]
  },
  {
   "cell_type": "markdown",
   "id": "d846406a",
   "metadata": {},
   "source": [
    "<br />\n",
    "On fait attention à la dernière colonne : elle est déjà encodée."
   ]
  },
  {
   "cell_type": "code",
   "execution_count": 127,
   "id": "495d85c0",
   "metadata": {},
   "outputs": [
    {
     "data": {
      "text/plain": [
       "'Équipements de cuisine de base'"
      ]
     },
     "execution_count": 127,
     "metadata": {},
     "output_type": "execute_result"
    }
   ],
   "source": [
    "df.columns[67]"
   ]
  },
  {
   "cell_type": "code",
   "execution_count": 128,
   "id": "5dea4f67",
   "metadata": {},
   "outputs": [],
   "source": [
    "for col in df.columns[10:68] :\n",
    "        df[col] = df[col].apply(NC)"
   ]
  },
  {
   "cell_type": "markdown",
   "id": "d71054c9",
   "metadata": {},
   "source": [
    "<br />\n",
    "On vérifie que le code a bien fonctionné.\n",
    "<br />"
   ]
  },
  {
   "cell_type": "code",
   "execution_count": 129,
   "id": "f0bf9d1e",
   "metadata": {},
   "outputs": [
    {
     "data": {
      "text/html": [
       "<div>\n",
       "<style scoped>\n",
       "    .dataframe tbody tr th:only-of-type {\n",
       "        vertical-align: middle;\n",
       "    }\n",
       "\n",
       "    .dataframe tbody tr th {\n",
       "        vertical-align: top;\n",
       "    }\n",
       "\n",
       "    .dataframe thead th {\n",
       "        text-align: right;\n",
       "    }\n",
       "</style>\n",
       "<table border=\"1\" class=\"dataframe\">\n",
       "  <thead>\n",
       "    <tr style=\"text-align: right;\">\n",
       "      <th></th>\n",
       "      <th>price</th>\n",
       "      <th>superhost</th>\n",
       "      <th>statut</th>\n",
       "      <th>grade</th>\n",
       "      <th>nb_comment</th>\n",
       "      <th>voyageurs</th>\n",
       "      <th>nb_chambres</th>\n",
       "      <th>nb_lits</th>\n",
       "      <th>nb_sdb</th>\n",
       "      <th>city</th>\n",
       "      <th>...</th>\n",
       "      <th>Coffre-fort</th>\n",
       "      <th>Ustensiles de barbecue</th>\n",
       "      <th>Patio ou balcon : privé(e)</th>\n",
       "      <th>Jardin privé(e), Clôture intégrale</th>\n",
       "      <th>Piscine</th>\n",
       "      <th>Salle de sport</th>\n",
       "      <th>Animaux acceptés</th>\n",
       "      <th>Dépôt de bagages autorisé</th>\n",
       "      <th>Clés remises par l'hôte</th>\n",
       "      <th>Équipements de cuisine de base</th>\n",
       "    </tr>\n",
       "  </thead>\n",
       "  <tbody>\n",
       "    <tr>\n",
       "      <th>1</th>\n",
       "      <td>141</td>\n",
       "      <td>0</td>\n",
       "      <td>1</td>\n",
       "      <td>4.95</td>\n",
       "      <td>43</td>\n",
       "      <td>4.0</td>\n",
       "      <td>1</td>\n",
       "      <td>2.0</td>\n",
       "      <td>0</td>\n",
       "      <td>Nice</td>\n",
       "      <td>...</td>\n",
       "      <td>0</td>\n",
       "      <td>0</td>\n",
       "      <td>0</td>\n",
       "      <td>0</td>\n",
       "      <td>0</td>\n",
       "      <td>0</td>\n",
       "      <td>0</td>\n",
       "      <td>1</td>\n",
       "      <td>0</td>\n",
       "      <td>1</td>\n",
       "    </tr>\n",
       "    <tr>\n",
       "      <th>2</th>\n",
       "      <td>37</td>\n",
       "      <td>1</td>\n",
       "      <td>0</td>\n",
       "      <td>4.52</td>\n",
       "      <td>23</td>\n",
       "      <td>2.0</td>\n",
       "      <td>1</td>\n",
       "      <td>1.0</td>\n",
       "      <td>1</td>\n",
       "      <td>Nice</td>\n",
       "      <td>...</td>\n",
       "      <td>0</td>\n",
       "      <td>0</td>\n",
       "      <td>0</td>\n",
       "      <td>0</td>\n",
       "      <td>0</td>\n",
       "      <td>0</td>\n",
       "      <td>1</td>\n",
       "      <td>0</td>\n",
       "      <td>0</td>\n",
       "      <td>0</td>\n",
       "    </tr>\n",
       "    <tr>\n",
       "      <th>3</th>\n",
       "      <td>37</td>\n",
       "      <td>0</td>\n",
       "      <td>0</td>\n",
       "      <td>4.58</td>\n",
       "      <td>52</td>\n",
       "      <td>2.0</td>\n",
       "      <td>1</td>\n",
       "      <td>1.0</td>\n",
       "      <td>1</td>\n",
       "      <td>Nice</td>\n",
       "      <td>...</td>\n",
       "      <td>0</td>\n",
       "      <td>0</td>\n",
       "      <td>1</td>\n",
       "      <td>0</td>\n",
       "      <td>0</td>\n",
       "      <td>0</td>\n",
       "      <td>0</td>\n",
       "      <td>0</td>\n",
       "      <td>0</td>\n",
       "      <td>1</td>\n",
       "    </tr>\n",
       "    <tr>\n",
       "      <th>4</th>\n",
       "      <td>36</td>\n",
       "      <td>0</td>\n",
       "      <td>0</td>\n",
       "      <td>4.45</td>\n",
       "      <td>70</td>\n",
       "      <td>2.0</td>\n",
       "      <td>1</td>\n",
       "      <td>1.0</td>\n",
       "      <td>1</td>\n",
       "      <td>Nice</td>\n",
       "      <td>...</td>\n",
       "      <td>0</td>\n",
       "      <td>0</td>\n",
       "      <td>0</td>\n",
       "      <td>0</td>\n",
       "      <td>0</td>\n",
       "      <td>0</td>\n",
       "      <td>0</td>\n",
       "      <td>0</td>\n",
       "      <td>0</td>\n",
       "      <td>1</td>\n",
       "    </tr>\n",
       "    <tr>\n",
       "      <th>5</th>\n",
       "      <td>34</td>\n",
       "      <td>0</td>\n",
       "      <td>0</td>\n",
       "      <td>4.75</td>\n",
       "      <td>8</td>\n",
       "      <td>2.0</td>\n",
       "      <td>1</td>\n",
       "      <td>1.0</td>\n",
       "      <td>1</td>\n",
       "      <td>Nice</td>\n",
       "      <td>...</td>\n",
       "      <td>0</td>\n",
       "      <td>0</td>\n",
       "      <td>0</td>\n",
       "      <td>0</td>\n",
       "      <td>0</td>\n",
       "      <td>0</td>\n",
       "      <td>0</td>\n",
       "      <td>0</td>\n",
       "      <td>0</td>\n",
       "      <td>1</td>\n",
       "    </tr>\n",
       "    <tr>\n",
       "      <th>...</th>\n",
       "      <td>...</td>\n",
       "      <td>...</td>\n",
       "      <td>...</td>\n",
       "      <td>...</td>\n",
       "      <td>...</td>\n",
       "      <td>...</td>\n",
       "      <td>...</td>\n",
       "      <td>...</td>\n",
       "      <td>...</td>\n",
       "      <td>...</td>\n",
       "      <td>...</td>\n",
       "      <td>...</td>\n",
       "      <td>...</td>\n",
       "      <td>...</td>\n",
       "      <td>...</td>\n",
       "      <td>...</td>\n",
       "      <td>...</td>\n",
       "      <td>...</td>\n",
       "      <td>...</td>\n",
       "      <td>...</td>\n",
       "      <td>...</td>\n",
       "    </tr>\n",
       "    <tr>\n",
       "      <th>4278</th>\n",
       "      <td>10170</td>\n",
       "      <td>0</td>\n",
       "      <td>1</td>\n",
       "      <td>9999.0</td>\n",
       "      <td>0</td>\n",
       "      <td>16.0</td>\n",
       "      <td>10</td>\n",
       "      <td>10.0</td>\n",
       "      <td>11</td>\n",
       "      <td>Sainte-Maxime</td>\n",
       "      <td>...</td>\n",
       "      <td>0</td>\n",
       "      <td>0</td>\n",
       "      <td>0</td>\n",
       "      <td>0</td>\n",
       "      <td>1</td>\n",
       "      <td>0</td>\n",
       "      <td>0</td>\n",
       "      <td>0</td>\n",
       "      <td>0</td>\n",
       "      <td>0</td>\n",
       "    </tr>\n",
       "    <tr>\n",
       "      <th>4279</th>\n",
       "      <td>2786</td>\n",
       "      <td>0</td>\n",
       "      <td>1</td>\n",
       "      <td>9999.0</td>\n",
       "      <td>0</td>\n",
       "      <td>16.0</td>\n",
       "      <td>12</td>\n",
       "      <td>12.0</td>\n",
       "      <td>12</td>\n",
       "      <td>Sainte-Maxime</td>\n",
       "      <td>...</td>\n",
       "      <td>0</td>\n",
       "      <td>0</td>\n",
       "      <td>0</td>\n",
       "      <td>0</td>\n",
       "      <td>0</td>\n",
       "      <td>0</td>\n",
       "      <td>0</td>\n",
       "      <td>0</td>\n",
       "      <td>0</td>\n",
       "      <td>0</td>\n",
       "    </tr>\n",
       "    <tr>\n",
       "      <th>4280</th>\n",
       "      <td>4094</td>\n",
       "      <td>0</td>\n",
       "      <td>0</td>\n",
       "      <td>4.86</td>\n",
       "      <td>14</td>\n",
       "      <td>16.0</td>\n",
       "      <td>11</td>\n",
       "      <td>26</td>\n",
       "      <td>12</td>\n",
       "      <td>Cannes</td>\n",
       "      <td>...</td>\n",
       "      <td>0</td>\n",
       "      <td>0</td>\n",
       "      <td>0</td>\n",
       "      <td>0</td>\n",
       "      <td>1</td>\n",
       "      <td>1</td>\n",
       "      <td>0</td>\n",
       "      <td>1</td>\n",
       "      <td>0</td>\n",
       "      <td>1</td>\n",
       "    </tr>\n",
       "    <tr>\n",
       "      <th>4281</th>\n",
       "      <td>4048</td>\n",
       "      <td>0</td>\n",
       "      <td>1</td>\n",
       "      <td>9999.0</td>\n",
       "      <td>0</td>\n",
       "      <td>16.0</td>\n",
       "      <td>11</td>\n",
       "      <td>26</td>\n",
       "      <td>12</td>\n",
       "      <td>Cannes</td>\n",
       "      <td>...</td>\n",
       "      <td>0</td>\n",
       "      <td>0</td>\n",
       "      <td>0</td>\n",
       "      <td>0</td>\n",
       "      <td>1</td>\n",
       "      <td>1</td>\n",
       "      <td>0</td>\n",
       "      <td>1</td>\n",
       "      <td>0</td>\n",
       "      <td>1</td>\n",
       "    </tr>\n",
       "    <tr>\n",
       "      <th>4282</th>\n",
       "      <td>8572</td>\n",
       "      <td>0</td>\n",
       "      <td>1</td>\n",
       "      <td>9999.0</td>\n",
       "      <td>1</td>\n",
       "      <td>16.0</td>\n",
       "      <td>15</td>\n",
       "      <td>17.0</td>\n",
       "      <td>14</td>\n",
       "      <td>Fréjus</td>\n",
       "      <td>...</td>\n",
       "      <td>0</td>\n",
       "      <td>0</td>\n",
       "      <td>0</td>\n",
       "      <td>0</td>\n",
       "      <td>0</td>\n",
       "      <td>0</td>\n",
       "      <td>0</td>\n",
       "      <td>0</td>\n",
       "      <td>0</td>\n",
       "      <td>0</td>\n",
       "    </tr>\n",
       "  </tbody>\n",
       "</table>\n",
       "<p>4254 rows × 68 columns</p>\n",
       "</div>"
      ],
      "text/plain": [
       "      price  superhost  statut   grade  nb_comment  voyageurs nb_chambres  \\\n",
       "1       141          0       1    4.95          43        4.0           1   \n",
       "2        37          1       0    4.52          23        2.0           1   \n",
       "3        37          0       0    4.58          52        2.0           1   \n",
       "4        36          0       0    4.45          70        2.0           1   \n",
       "5        34          0       0    4.75           8        2.0           1   \n",
       "...     ...        ...     ...     ...         ...        ...         ...   \n",
       "4278  10170          0       1  9999.0           0       16.0          10   \n",
       "4279   2786          0       1  9999.0           0       16.0          12   \n",
       "4280   4094          0       0    4.86          14       16.0          11   \n",
       "4281   4048          0       1  9999.0           0       16.0          11   \n",
       "4282   8572          0       1  9999.0           1       16.0          15   \n",
       "\n",
       "     nb_lits  nb_sdb           city  ...  Coffre-fort  Ustensiles de barbecue  \\\n",
       "1        2.0       0           Nice  ...            0                       0   \n",
       "2        1.0       1           Nice  ...            0                       0   \n",
       "3        1.0       1           Nice  ...            0                       0   \n",
       "4        1.0       1           Nice  ...            0                       0   \n",
       "5        1.0       1           Nice  ...            0                       0   \n",
       "...      ...     ...            ...  ...          ...                     ...   \n",
       "4278    10.0      11  Sainte-Maxime  ...            0                       0   \n",
       "4279    12.0      12  Sainte-Maxime  ...            0                       0   \n",
       "4280      26      12         Cannes  ...            0                       0   \n",
       "4281      26      12         Cannes  ...            0                       0   \n",
       "4282    17.0      14         Fréjus  ...            0                       0   \n",
       "\n",
       "      Patio ou balcon : privé(e)  Jardin privé(e), Clôture intégrale  Piscine  \\\n",
       "1                              0                                   0        0   \n",
       "2                              0                                   0        0   \n",
       "3                              1                                   0        0   \n",
       "4                              0                                   0        0   \n",
       "5                              0                                   0        0   \n",
       "...                          ...                                 ...      ...   \n",
       "4278                           0                                   0        1   \n",
       "4279                           0                                   0        0   \n",
       "4280                           0                                   0        1   \n",
       "4281                           0                                   0        1   \n",
       "4282                           0                                   0        0   \n",
       "\n",
       "      Salle de sport  Animaux acceptés  Dépôt de bagages autorisé  \\\n",
       "1                  0                 0                          1   \n",
       "2                  0                 1                          0   \n",
       "3                  0                 0                          0   \n",
       "4                  0                 0                          0   \n",
       "5                  0                 0                          0   \n",
       "...              ...               ...                        ...   \n",
       "4278               0                 0                          0   \n",
       "4279               0                 0                          0   \n",
       "4280               1                 0                          1   \n",
       "4281               1                 0                          1   \n",
       "4282               0                 0                          0   \n",
       "\n",
       "      Clés remises par l'hôte  Équipements de cuisine de base  \n",
       "1                           0                               1  \n",
       "2                           0                               0  \n",
       "3                           0                               1  \n",
       "4                           0                               1  \n",
       "5                           0                               1  \n",
       "...                       ...                             ...  \n",
       "4278                        0                               0  \n",
       "4279                        0                               0  \n",
       "4280                        0                               1  \n",
       "4281                        0                               1  \n",
       "4282                        0                               0  \n",
       "\n",
       "[4254 rows x 68 columns]"
      ]
     },
     "execution_count": 129,
     "metadata": {},
     "output_type": "execute_result"
    }
   ],
   "source": [
    "df"
   ]
  },
  {
   "cell_type": "markdown",
   "id": "4b70de5d",
   "metadata": {},
   "source": [
    "<br />\n",
    "Reset des index"
   ]
  },
  {
   "cell_type": "code",
   "execution_count": 130,
   "id": "3cfdc6f6",
   "metadata": {},
   "outputs": [],
   "source": [
    "df.reset_index(drop=True,inplace=True)"
   ]
  },
  {
   "cell_type": "markdown",
   "id": "878d3412",
   "metadata": {},
   "source": [
    "<br />\n",
    "On n'utilise pas la colonne 'city' : en faisant du one-hot-encoding et en intégrant ces valeurs, nos modèles faisaient trop d'underfitting. "
   ]
  },
  {
   "cell_type": "code",
   "execution_count": 131,
   "id": "c03c4c4b",
   "metadata": {},
   "outputs": [],
   "source": [
    "df.drop(['city'],axis=1,inplace=True)"
   ]
  },
  {
   "cell_type": "markdown",
   "id": "60b79d61",
   "metadata": {},
   "source": [
    "## Séléction des features pour une régression"
   ]
  },
  {
   "cell_type": "markdown",
   "id": "f2232002",
   "metadata": {},
   "source": [
    "<br />\n",
    "On stocke le prix dans y. \n",
    "<br />"
   ]
  },
  {
   "cell_type": "code",
   "execution_count": 132,
   "id": "6ea14acb",
   "metadata": {},
   "outputs": [],
   "source": [
    "y = df.pop('price')"
   ]
  },
  {
   "cell_type": "code",
   "execution_count": 133,
   "id": "fa378ab3",
   "metadata": {},
   "outputs": [],
   "source": [
    "X = df"
   ]
  },
  {
   "cell_type": "markdown",
   "id": "83a62490",
   "metadata": {},
   "source": [
    "<br />\n",
    "On effectue une sélection de variables en se basant sur un test statistique, le test du Chi-deux qui nous donne la significativité des variables et on ne garde que les 50 variables les plus importantes.\n",
    "On fait le choix de 50 variables, car nous avons remarqué que pour notre régression, nous avions besoin de plusieurs variables.\n",
    "<br />"
   ]
  },
  {
   "cell_type": "code",
   "execution_count": 134,
   "id": "d772aea0",
   "metadata": {},
   "outputs": [
    {
     "data": {
      "text/plain": [
       "(array([6.66177942e+02, 5.22973426e+02, 9.69767305e+06, 6.73569046e+04,\n",
       "        6.29517836e+03, 3.73029913e+03, 5.55747676e+03, 3.42558405e+03,\n",
       "        1.93041435e+01, 3.54679282e+02, 1.71545049e+02, 2.20864780e+02,\n",
       "        6.12785478e+02, 2.81046727e+02, 3.32512214e+02, 7.51427037e+01,\n",
       "        4.62187776e+02, 6.65032781e+02, 1.59114423e+03, 1.48381208e+03,\n",
       "        1.32459479e+02, 1.91963933e+02, 2.79652229e+02, 1.64639567e+02,\n",
       "        2.97593385e+02, 2.53596397e+02, 5.18801623e+02, 4.55629539e+02,\n",
       "        4.37900928e+02, 6.93444072e+02, 8.36739982e+01, 7.76785186e+02,\n",
       "        1.68063589e+02, 6.94396284e+02, 9.83812969e+02, 7.52207426e+02,\n",
       "        5.78376573e+02, 6.28001233e+02, 5.58131063e+02, 6.98981538e+02,\n",
       "        5.84881320e+02, 7.22359613e+02, 1.36044292e+03, 9.09241673e+02,\n",
       "        8.84651539e+02, 9.02739651e+02, 8.82920741e+02, 9.99155694e+02,\n",
       "        9.74988480e+02, 1.03245119e+03, 6.51044590e+02, 5.69901004e+02,\n",
       "        7.02923561e+02, 1.02075967e+03, 5.77020991e+02, 2.40010892e+02,\n",
       "        1.58198047e+03, 1.33432492e+03, 6.72470296e+02, 1.25844450e+03,\n",
       "        1.59959065e+03, 2.06762808e+03, 7.92220231e+02, 7.15020768e+02,\n",
       "        5.86864590e+02, 2.34152034e+02]),\n",
       " array([6.19739351e-001, 9.99997483e-001, 0.00000000e+000, 0.00000000e+000,\n",
       "        0.00000000e+000, 0.00000000e+000, 0.00000000e+000, 0.00000000e+000,\n",
       "        1.00000000e+000, 1.00000000e+000, 1.00000000e+000, 1.00000000e+000,\n",
       "        9.65078364e-001, 1.00000000e+000, 1.00000000e+000, 1.00000000e+000,\n",
       "        1.00000000e+000, 6.31669079e-001, 3.24092647e-075, 3.88547051e-062,\n",
       "        1.00000000e+000, 1.00000000e+000, 1.00000000e+000, 1.00000000e+000,\n",
       "        1.00000000e+000, 1.00000000e+000, 9.99998691e-001, 1.00000000e+000,\n",
       "        1.00000000e+000, 3.32023710e-001, 1.00000000e+000, 4.93561303e-003,\n",
       "        1.00000000e+000, 3.22832865e-001, 1.19335562e-013, 2.47658832e-002,\n",
       "        9.97688813e-001, 9.15349119e-001, 9.99720991e-001, 2.80261127e-001,\n",
       "        9.95811294e-001, 1.15587493e-001, 4.68301696e-048, 6.03975441e-009,\n",
       "        1.34973616e-007, 1.40619558e-008, 1.66412369e-007, 1.00655208e-014,\n",
       "        4.77252361e-013, 3.60812697e-017, 7.65397920e-001, 9.98997743e-001,\n",
       "        2.46116501e-001, 2.71359740e-016, 9.97968449e-001, 1.00000000e+000,\n",
       "        4.51391026e-074, 3.19761237e-045, 5.52689201e-001, 2.59978191e-037,\n",
       "        2.83165736e-076, 2.67601642e-140, 1.53412948e-003, 1.57295868e-001,\n",
       "        9.95017935e-001, 1.00000000e+000]))"
      ]
     },
     "execution_count": 134,
     "metadata": {},
     "output_type": "execute_result"
    }
   ],
   "source": [
    "chi2(X,y)"
   ]
  },
  {
   "cell_type": "markdown",
   "id": "4e0c4d5e",
   "metadata": {},
   "source": [
    "<br />\n",
    "On lui demande un maximum de features pour minimiser l'underfitting. \n",
    "<br />"
   ]
  },
  {
   "cell_type": "code",
   "execution_count": 189,
   "id": "ef30a52e",
   "metadata": {},
   "outputs": [
    {
     "data": {
      "text/plain": [
       "array([['4.95', 43, 4.0, '1', '2.0', 0],\n",
       "       ['4.52', 23, 2.0, 1, '1.0', 1],\n",
       "       ['4.58', 52, 2.0, 1, '1.0', 1],\n",
       "       ...,\n",
       "       ['4.86', 14, 16.0, '11', '26', 12],\n",
       "       [9999.0, 0, 16.0, '11', '26', 12],\n",
       "       [9999.0, 1, 16.0, '15', '17.0', 14]], dtype=object)"
      ]
     },
     "execution_count": 189,
     "metadata": {},
     "output_type": "execute_result"
    }
   ],
   "source": [
    "selector = SelectKBest(chi2,k='all')\n",
    "selector.fit_transform(X,y)"
   ]
  },
  {
   "cell_type": "markdown",
   "id": "a0e6f945",
   "metadata": {},
   "source": [
    "<br />\n",
    "On visualise les features qui ont été sélectionnées. \n",
    "<br />"
   ]
  },
  {
   "cell_type": "code",
   "execution_count": 190,
   "id": "1a440bfc",
   "metadata": {},
   "outputs": [
    {
     "data": {
      "text/plain": [
       "array(['grade', 'nb_comment', 'voyageurs', 'nb_chambres', 'nb_lits',\n",
       "       'nb_sdb'], dtype=object)"
      ]
     },
     "execution_count": 190,
     "metadata": {},
     "output_type": "execute_result"
    }
   ],
   "source": [
    "np.array(X.columns)[selector.get_support()]"
   ]
  },
  {
   "cell_type": "markdown",
   "id": "391f18b8",
   "metadata": {},
   "source": [
    "<br />\n",
    "On crée un nouveau dataframe en gardant les variables sélectionnées. "
   ]
  },
  {
   "cell_type": "code",
   "execution_count": 191,
   "id": "72ef1481",
   "metadata": {},
   "outputs": [],
   "source": [
    "dfkeep = df[list(np.array(X.columns)[selector.get_support()])]"
   ]
  },
  {
   "cell_type": "code",
   "execution_count": 192,
   "id": "9a39a614",
   "metadata": {},
   "outputs": [],
   "source": [
    "X = dfkeep"
   ]
  },
  {
   "cell_type": "markdown",
   "id": "d0d56dfc",
   "metadata": {},
   "source": [
    "<br />\n",
    "On divise le dataframe : 70 % train et 30 % test."
   ]
  },
  {
   "cell_type": "code",
   "execution_count": 193,
   "id": "a276cfb6",
   "metadata": {},
   "outputs": [],
   "source": [
    "X_train, X_test, y_train, y_test = train_test_split(X,y, test_size=0.3, random_state=0)"
   ]
  },
  {
   "cell_type": "markdown",
   "id": "b65fe863",
   "metadata": {},
   "source": [
    "## Regression RandomForest"
   ]
  },
  {
   "cell_type": "markdown",
   "id": "ce8362c6",
   "metadata": {},
   "source": [
    "<br />\n",
    "On fait une regression RandomForest en cherchant les meilleures paramètres à l'aide de la mean squared error. On fait aussi une cross-validation=7. "
   ]
  },
  {
   "cell_type": "markdown",
   "id": "8e75711d",
   "metadata": {},
   "source": [
    "Résultats à obtenir : max_depth : 50 ; n_estimators : 150"
   ]
  },
  {
   "cell_type": "code",
   "execution_count": 57,
   "id": "86cb6549",
   "metadata": {},
   "outputs": [
    {
     "name": "stdout",
     "output_type": "stream",
     "text": [
      "The best hyper-parameters for Random Forests are:  {'n_estimators': 150, 'max_depth': 50}\n"
     ]
    }
   ],
   "source": [
    "# Random Forests\n",
    "parameters = [{'max_depth': [5,10, 15, 20, 50, 70], 'n_estimators': [10, 25, 50, 100,150, 200, 250]}]\n",
    "MSERF = ['mean_squared_error(y_test, y_pred)']\n",
    "for value in MSERF:\n",
    "    reg_rf = RandomizedSearchCV(RandomForestRegressor(), parameters, cv=7)\n",
    "    reg_rf.fit(X_train, y_train)\n",
    "    y_true, y_pred = y_test, reg_rf.predict(X_test)\n",
    "    \n",
    "print('Meilleurs hyper-paramètres : ',reg_rf.best_params_)      "
   ]
  },
  {
   "cell_type": "code",
   "execution_count": 140,
   "id": "c41996bd",
   "metadata": {},
   "outputs": [],
   "source": [
    "reg_rf1 = RandomForestRegressor(max_depth=50, random_state=0, n_estimators=150)"
   ]
  },
  {
   "cell_type": "code",
   "execution_count": 141,
   "id": "a0743abf",
   "metadata": {},
   "outputs": [],
   "source": [
    "forest = reg_rf1.fit(X_train, y_train)"
   ]
  },
  {
   "cell_type": "code",
   "execution_count": 142,
   "id": "3e8a295b",
   "metadata": {},
   "outputs": [
    {
     "data": {
      "text/plain": [
       "0.8566635688139834"
      ]
     },
     "execution_count": 142,
     "metadata": {},
     "output_type": "execute_result"
    }
   ],
   "source": [
    "forest.score(X_train,y_train)"
   ]
  },
  {
   "cell_type": "code",
   "execution_count": 145,
   "id": "81f4db6a",
   "metadata": {},
   "outputs": [
    {
     "data": {
      "text/plain": [
       "0.8317187500686898"
      ]
     },
     "execution_count": 145,
     "metadata": {},
     "output_type": "execute_result"
    }
   ],
   "source": [
    "forest.score(X_test,y_test) "
   ]
  },
  {
   "cell_type": "markdown",
   "id": "71d1bf98",
   "metadata": {},
   "source": [
    "## Classification RandomForest"
   ]
  },
  {
   "cell_type": "markdown",
   "id": "c2b291cf",
   "metadata": {},
   "source": [
    "<br />\n",
    "La séléction des variables par le Chi-deux donne de très bon résultats avec le Classifier. <br />\n",
    "Résultats à obtenir : max_depth : 15 ; n_estimators : 250"
   ]
  },
  {
   "cell_type": "code",
   "execution_count": 66,
   "id": "981a41c5",
   "metadata": {},
   "outputs": [
    {
     "name": "stderr",
     "output_type": "stream",
     "text": [
      "C:\\Users\\sonia\\anaconda3\\lib\\site-packages\\sklearn\\model_selection\\_split.py:666: UserWarning: The least populated class in y has only 1 members, which is less than n_splits=4.\n",
      "  warnings.warn((\"The least populated class in y has only %d\"\n"
     ]
    },
    {
     "name": "stdout",
     "output_type": "stream",
     "text": [
      "The best hyper-parameters for Random Forests are: {'max_depth': 15, 'n_estimators': 250}\n"
     ]
    }
   ],
   "source": [
    "# Random Forests\n",
    "parameters = [{'max_depth': [5,10, 15, 20, 50, 70], 'n_estimators': [10, 25, 50, 100,150, 200, 250]}]\n",
    "MSERF = ['mean_squared_error(y_test, y_pred)']\n",
    "for value in MSERF:\n",
    "    classification_rf = GridSearchCV(RandomForestClassifier(), parameters, cv=4)\n",
    "    classification_rf.fit(X_train, y_train)\n",
    "    y_true, y_pred = y_test, classification_rf.predict(X_test)\n",
    "    \n",
    "print('Meilleurs hyper-paramètres :', classification_rf.best_params_) "
   ]
  },
  {
   "cell_type": "code",
   "execution_count": 175,
   "id": "b362a8cd",
   "metadata": {},
   "outputs": [],
   "source": [
    "classification_rf = RandomForestClassifier(max_depth=15, random_state=0, n_estimators=250)"
   ]
  },
  {
   "cell_type": "code",
   "execution_count": 176,
   "id": "e42d2dca",
   "metadata": {},
   "outputs": [],
   "source": [
    "forest2 = classification_rf.fit(X_train, y_train)"
   ]
  },
  {
   "cell_type": "code",
   "execution_count": 200,
   "id": "762b5846",
   "metadata": {},
   "outputs": [],
   "source": [
    "forest2.score(X_train,y_train)"
   ]
  },
  {
   "cell_type": "code",
   "execution_count": 179,
   "id": "a2980101",
   "metadata": {},
   "outputs": [
    {
     "data": {
      "text/plain": [
       "0.8183241973375098"
      ]
     },
     "execution_count": 179,
     "metadata": {},
     "output_type": "execute_result"
    }
   ],
   "source": [
    "forest2.score(X_test,y_test) "
   ]
  },
  {
   "cell_type": "code",
   "execution_count": 201,
   "id": "ce36ae5a",
   "metadata": {},
   "outputs": [],
   "source": [
    "y_pred2 = classification_rf.predict(X_test)"
   ]
  },
  {
   "cell_type": "markdown",
   "id": "6cc57174",
   "metadata": {},
   "source": [
    "<br />\n",
    "Le f1-score est une métrique qui permet d'évaluer la performance des modèles de classification à deux classes ou plus. \n",
    "Le f1-score permet de résumer les valeurs de la précision et du recall en une seule métrique. <br />\n",
    "Mathématiquement, ce score est défini comme étant la moyenne harmonique de la précision et du recall."
   ]
  },
  {
   "cell_type": "code",
   "execution_count": 204,
   "id": "fc4204ad",
   "metadata": {},
   "outputs": [],
   "source": [
    "f1 = f1_score(y_test,y_pred2,average='weighted',labels=np.unique(y_pred2))"
   ]
  },
  {
   "cell_type": "code",
   "execution_count": 205,
   "id": "d78cfa84",
   "metadata": {},
   "outputs": [
    {
     "data": {
      "text/plain": [
       "0.845937639731682"
      ]
     },
     "execution_count": 205,
     "metadata": {},
     "output_type": "execute_result"
    }
   ],
   "source": [
    "f1"
   ]
  }
 ],
 "metadata": {
  "kernelspec": {
   "display_name": "Python 3 (ipykernel)",
   "language": "python",
   "name": "python3"
  },
  "language_info": {
   "codemirror_mode": {
    "name": "ipython",
    "version": 3
   },
   "file_extension": ".py",
   "mimetype": "text/x-python",
   "name": "python",
   "nbconvert_exporter": "python",
   "pygments_lexer": "ipython3",
   "version": "3.9.12"
  }
 },
 "nbformat": 4,
 "nbformat_minor": 5
}
